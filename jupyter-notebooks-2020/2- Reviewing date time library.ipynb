{
 "cells": [
  {
   "cell_type": "markdown",
   "metadata": {},
   "source": [
    "We probably remember that we are working with 4-d data, where the dimensions are TIME x DEPTH x LAT x LON. \n",
    "\n",
    "The goal for this notebook is to loop through all the times and write the dates in YEARMONTHDAY format. "
   ]
  },
  {
   "cell_type": "code",
   "execution_count": 2,
   "metadata": {},
   "outputs": [],
   "source": [
    "import numpy as np\n",
    "from netCDF4 import Dataset\n",
    "import datetime as td"
   ]
  },
  {
   "cell_type": "markdown",
   "metadata": {},
   "source": [
    "Before we look at our data, here is an example of working with date and timedelta. Say you want to find out the date 10 years after March 9th, 2020:"
   ]
  },
  {
   "cell_type": "code",
   "execution_count": 3,
   "metadata": {},
   "outputs": [
    {
     "name": "stdout",
     "output_type": "stream",
     "text": [
      "2020-03-09\n"
     ]
    }
   ],
   "source": [
    "march_9_2020 = td.date(2020,3,9)\n",
    "print(march_9_2020)"
   ]
  },
  {
   "cell_type": "code",
   "execution_count": 4,
   "metadata": {},
   "outputs": [],
   "source": [
    "ten_years = td.timedelta(days =10*365) # this doesn't consider leap years"
   ]
  },
  {
   "cell_type": "code",
   "execution_count": 5,
   "metadata": {},
   "outputs": [
    {
     "name": "stdout",
     "output_type": "stream",
     "text": [
      "2030-03-07\n"
     ]
    }
   ],
   "source": [
    "date_in_10_years = ten_years + march_9_2020\n",
    "print(date_in_10_years)"
   ]
  },
  {
   "cell_type": "markdown",
   "metadata": {},
   "source": [
    "-------------------\n",
    "# Now let's look at our data\n",
    "\n",
    "The first thing is to import the dataset as a Dataset object"
   ]
  },
  {
   "cell_type": "code",
   "execution_count": 6,
   "metadata": {},
   "outputs": [],
   "source": [
    "#do that here:\n",
    "data = Dataset(\"/Users/brownscholar/desktop/BridgeUp_Internship/data/atlantic-data.nc\") #i probably have to change the dataset here later on"
   ]
  },
  {
   "cell_type": "markdown",
   "metadata": {},
   "source": [
    "Then we want to read in the time variable. Do that here:"
   ]
  },
  {
   "cell_type": "code",
   "execution_count": 15,
   "metadata": {},
   "outputs": [],
   "source": [
    "# do that here: \n",
    "oritime = data.variables[\"time\"][:]"
   ]
  },
  {
   "cell_type": "markdown",
   "metadata": {},
   "source": [
    "Print the shape of the time variable:"
   ]
  },
  {
   "cell_type": "code",
   "execution_count": 16,
   "metadata": {},
   "outputs": [
    {
     "data": {
      "text/plain": [
       "(1355,)"
      ]
     },
     "execution_count": 16,
     "metadata": {},
     "output_type": "execute_result"
    }
   ],
   "source": [
    "# do that here:\n",
    "oritime.shape"
   ]
  },
  {
   "cell_type": "markdown",
   "metadata": {},
   "source": [
    "Before we start using datetime, in terminal (open a new window or tab) look at the units of time. Using this info, define a start date:"
   ]
  },
  {
   "cell_type": "code",
   "execution_count": 17,
   "metadata": {},
   "outputs": [
    {
     "name": "stdout",
     "output_type": "stream",
     "text": [
      "43.06301369863014\n",
      "377232.0\n",
      "1950-01-01\n"
     ]
    }
   ],
   "source": [
    "# do this here\n",
    "start_date = td.date(1950,1,1) \n",
    "#td.timedelta(year = 1)\n",
    "p = 377232.0/8760\n",
    "print(p)\n",
    "print(oritime[1])\n",
    "print(start_date)\n",
    "#(days = 377064/24)"
   ]
  },
  {
   "cell_type": "markdown",
   "metadata": {},
   "source": [
    "Now, looping through the time numpy array, calculate and print the date using timedelta:"
   ]
  },
  {
   "cell_type": "code",
   "execution_count": 11,
   "metadata": {},
   "outputs": [
    {
     "ename": "SyntaxError",
     "evalue": "invalid syntax (<ipython-input-11-e9a3903e4b1a>, line 3)",
     "output_type": "error",
     "traceback": [
      "\u001b[0;36m  File \u001b[0;32m\"<ipython-input-11-e9a3903e4b1a>\"\u001b[0;36m, line \u001b[0;32m3\u001b[0m\n\u001b[0;31m    for i in (range(0, len(oritime), 52))\u001b[0m\n\u001b[0m                                         ^\u001b[0m\n\u001b[0;31mSyntaxError\u001b[0m\u001b[0;31m:\u001b[0m invalid syntax\n"
     ]
    }
   ],
   "source": [
    "# do this here\n",
    "yearlist = []\n",
    "for i in (range(0, len(oritime), 52))\n",
    "    print(startdate + td.timedelta(hours = int(oritime[i])))\n",
    "\n",
    "\n",
    "\n",
    "\n",
    "#for i in time:\n",
    " #   print(start_date)\n",
    "  #  print(start_date.strftime(\"%y\") + start_date.strftime(\"%m\") + start_date.strftime(\"%d\"))\n",
    "\n",
    "\n",
    "#uhhh this does *not* look right"
   ]
  },
  {
   "cell_type": "markdown",
   "metadata": {},
   "source": [
    "--------------------\n",
    "# Finally,\n",
    "we want to turn these date objects into strings that are of the form YEARMONTHDAY. Here is an example of how to do this using the ``march_9_2020`` date we made before:"
   ]
  },
  {
   "cell_type": "code",
   "execution_count": 15,
   "metadata": {},
   "outputs": [
    {
     "name": "stdout",
     "output_type": "stream",
     "text": [
      "200309\n"
     ]
    }
   ],
   "source": [
    "print(march_9_2020.strftime(\"%y\") + march_9_2020.strftime(\"%m\") + march_9_2020.strftime(\"%d\"))\n",
    "\n",
    "# if this is confusing to you google the function \"strftime\" "
   ]
  },
  {
   "cell_type": "markdown",
   "metadata": {},
   "source": [
    "Add this to your loop and print the YEARMONTHDAY date for each date."
   ]
  },
  {
   "cell_type": "markdown",
   "metadata": {},
   "source": [
    "Now: How can we add this to our code to change our file names? "
   ]
  },
  {
   "cell_type": "code",
   "execution_count": 16,
   "metadata": {},
   "outputs": [],
   "source": [
    "#our file names can now be given specific dates?"
   ]
  },
  {
   "cell_type": "code",
   "execution_count": null,
   "metadata": {},
   "outputs": [],
   "source": []
  }
 ],
 "metadata": {
  "kernelspec": {
   "display_name": "Python 3",
   "language": "python",
   "name": "python3"
  },
  "language_info": {
   "codemirror_mode": {
    "name": "ipython",
    "version": 3
   },
   "file_extension": ".py",
   "mimetype": "text/x-python",
   "name": "python",
   "nbconvert_exporter": "python",
   "pygments_lexer": "ipython3",
   "version": "3.8.3"
  }
 },
 "nbformat": 4,
 "nbformat_minor": 2
}
