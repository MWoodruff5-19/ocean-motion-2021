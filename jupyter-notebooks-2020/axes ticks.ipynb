{
 "cells": [
  {
   "cell_type": "markdown",
   "metadata": {},
   "source": [
    "-----------------\n",
    "# Adding tick marks\n",
    "To add tickmarks, let's take a look at a subplot:"
   ]
  },
  {
   "cell_type": "code",
   "execution_count": 2,
   "metadata": {},
   "outputs": [],
   "source": [
    "import numpy as np\n",
    "import matplotlib.pyplot as plt\n",
    "from matplotlib import cm\n",
    "from matplotlib.colors import ListedColormap, LinearSegmentedColormap"
   ]
  },
  {
   "cell_type": "code",
   "execution_count": 3,
   "metadata": {},
   "outputs": [],
   "source": [
    "#make sample array\n",
    "sample_array = np.arange(-50*9,50*9,9)\n",
    "sample_array = np.tan(sample_array) # this is the tangent function from trig, if you're curious\n",
    "sample_array = sample_array.reshape((10,10))\n",
    "\n",
    "#make colormap\n",
    "top = cm.get_cmap('Blues_r')\n",
    "bottom = cm.get_cmap('Reds')\n",
    "newcolors = np.vstack((top(np.linspace(0, 1, 10)),\n",
    "                       bottom(np.linspace(0, 1, 10))))\n",
    "newcmp = ListedColormap(newcolors, name='RedBlue')"
   ]
  },
  {
   "cell_type": "code",
   "execution_count": 4,
   "metadata": {},
   "outputs": [
    {
     "data": {
      "text/plain": [
       "<matplotlib.collections.QuadMesh at 0x7fe5fb7ac370>"
      ]
     },
     "execution_count": 4,
     "metadata": {},
     "output_type": "execute_result"
    },
    {
     "data": {
      "image/png": "[encoded data removed]",
      "text/plain": [
       "<Figure size 432x288 with 2 Axes>"
      ]
     },
     "metadata": {
      "needs_background": "light"
     },
     "output_type": "display_data"
    }
   ],
   "source": [
    "_min = -30\n",
    "_max = 30\n",
    "fig, ax = plt.subplots(2,1)\n",
    "ax[0].pcolormesh(sample_array,cmap=newcmp,vmin=_min,vmax=_max)\n",
    "ax[1].pcolormesh(np.transpose(sample_array)*3,cmap = newcmp,vmin=_min,vmax=_max)"
   ]
  },
  {
   "cell_type": "markdown",
   "metadata": {},
   "source": [
    "To specify which tickmarks we want, we can make a list. For example, we can see in the plot above that the ticks go from 0 to 10. If we wanted a tick mark every 2 lines, we can use\n",
    "\n",
    "``ax[0].set_yticks(np.arange(0,10,2))``\n",
    "\n",
    "Remember that ``np.arange(start,end,jump)`` makes a list from start to end, counting every jump:"
   ]
  },
  {
   "cell_type": "code",
   "execution_count": 5,
   "metadata": {},
   "outputs": [
    {
     "name": "stdout",
     "output_type": "stream",
     "text": [
      "[  0  45  90 135 180 225]\n"
     ]
    }
   ],
   "source": [
    "# example: \n",
    "print(np.arange(0,255,45))\n",
    "\n",
    "#make your own example here:\n"
   ]
  },
  {
   "cell_type": "markdown",
   "metadata": {},
   "source": [
    "Here is the same example from above with the ticks we want:"
   ]
  },
  {
   "cell_type": "code",
   "execution_count": 5,
   "metadata": {},
   "outputs": [
    {
     "data": {
      "text/plain": [
       "[<matplotlib.axis.YTick at 0x7ff036887490>,\n",
       " <matplotlib.axis.YTick at 0x7ff036887040>,\n",
       " <matplotlib.axis.YTick at 0x7ff035b9df70>,\n",
       " <matplotlib.axis.YTick at 0x7ff036980970>,\n",
       " <matplotlib.axis.YTick at 0x7ff036980e80>]"
      ]
     },
     "execution_count": 5,
     "metadata": {},
     "output_type": "execute_result"
    },
    {
     "data": {
      "image/png": "[encoded data removed]",
      "text/plain": [
       "<Figure size 432x288 with 2 Axes>"
      ]
     },
     "metadata": {
      "needs_background": "light"
     },
     "output_type": "display_data"
    }
   ],
   "source": [
    "_min = -30\n",
    "_max = 30\n",
    "fig, ax = plt.subplots(2,1)\n",
    "ax[0].pcolormesh(sample_array,cmap=newcmp,vmin=_min,vmax=_max)\n",
    "ax[1].pcolormesh(np.transpose(sample_array)*3,cmap = newcmp,vmin=_min,vmax=_max)\n",
    "ax[0].set_yticks(np.arange(0,10,2))"
   ]
  },
  {
   "cell_type": "markdown",
   "metadata": {},
   "source": [
    "You can see how the ticks are different for the top plot on the y-axis. If we want to change the **labels** of the ticks but keep that same spacing, we can use \n",
    "\n",
    "``ax[0].set_yticklabels(list)``, where list is some list of labels. \n",
    "\n",
    "This will put the labels from the list onto the **same spots** you picked using ``ax[0].set_yticks(np.arange(0,10,2))``\n",
    "\n",
    "Here is an example of this:"
   ]
  },
  {
   "cell_type": "code",
   "execution_count": 6,
   "metadata": {},
   "outputs": [],
   "source": [
    "example_list = ['red','orange','yellow','green','blue']"
   ]
  },
  {
   "cell_type": "code",
   "execution_count": 7,
   "metadata": {},
   "outputs": [
    {
     "data": {
      "text/plain": [
       "[Text(0, 0, 'red'),\n",
       " Text(0, 0, 'orange'),\n",
       " Text(0, 0, 'yellow'),\n",
       " Text(0, 0, 'green'),\n",
       " Text(0, 0, 'blue')]"
      ]
     },
     "execution_count": 7,
     "metadata": {},
     "output_type": "execute_result"
    },
    {
     "data": {
      "image/png": "[encoded data removed]",
      "text/plain": [
       "<Figure size 432x288 with 2 Axes>"
      ]
     },
     "metadata": {
      "needs_background": "light"
     },
     "output_type": "display_data"
    }
   ],
   "source": [
    "_min = -30\n",
    "_max = 30\n",
    "fig, ax = plt.subplots(2,1)\n",
    "ax[0].pcolormesh(sample_array,cmap=newcmp,vmin=_min,vmax=_max)\n",
    "ax[1].pcolormesh(np.transpose(sample_array)*3,cmap = newcmp,vmin=_min,vmax=_max)\n",
    "ax[0].set_yticks(np.arange(0,10,2)) # note you still need this part for the spacing\n",
    "ax[0].set_yticklabels(example_list)"
   ]
  },
  {
   "cell_type": "markdown",
   "metadata": {},
   "source": [
    "Experiment with this by changing the labels (ax.set_yticklabels) and the spacing (ax.set_yticks):"
   ]
  },
  {
   "cell_type": "code",
   "execution_count": 15,
   "metadata": {},
   "outputs": [
    {
     "data": {
      "text/plain": [
       "[Text(0, 0, 'red'), Text(0, 0, 'orange'), Text(0, 0, 'yellow')]"
      ]
     },
     "execution_count": 15,
     "metadata": {},
     "output_type": "execute_result"
    },
    {
     "data": {
      "image/png": "[encoded data removed]",
      "text/plain": [
       "<Figure size 432x288 with 2 Axes>"
      ]
     },
     "metadata": {
      "needs_background": "light"
     },
     "output_type": "display_data"
    }
   ],
   "source": [
    "# play around here: (feel free to copy and paste my code to edit it)\n",
    "_min = -30\n",
    "_max = 30\n",
    "fig, ax = plt.subplots(2,1)\n",
    "ax[0].pcolormesh(sample_array,cmap=newcmp,vmin=_min,vmax=_max)\n",
    "ax[1].pcolormesh(np.transpose(sample_array)*3,cmap = newcmp,vmin=_min,vmax=_max)\n",
    "ax[0].set_yticks(np.arange(0,6,2)) # note you still need this part for the spacing\n",
    "ax[0].set_yticklabels(example_list)\n",
    "\n",
    "\n",
    "\n",
    "\n"
   ]
  },
  {
   "cell_type": "markdown",
   "metadata": {},
   "source": [
    "Sometimes your list is too long for the number of spaces you have available. Then you have to skip items using ``the_list[start::skip]`` where ``the_list`` is some list, ``start`` is the index you start on, and ``skip`` is the step you take through the list.\n",
    "\n",
    "Take this example where you have a list with 10 items"
   ]
  },
  {
   "cell_type": "code",
   "execution_count": 16,
   "metadata": {},
   "outputs": [
    {
     "name": "stdout",
     "output_type": "stream",
     "text": [
      "['a', 'c', 'e', 'g', 'i']\n"
     ]
    }
   ],
   "source": [
    "my_list = ['a','b','c','d','e','f','g','h','i','j']\n",
    "print(my_list[0::2])"
   ]
  },
  {
   "cell_type": "markdown",
   "metadata": {},
   "source": [
    "Putting this all together: "
   ]
  },
  {
   "cell_type": "code",
   "execution_count": 13,
   "metadata": {},
   "outputs": [
    {
     "data": {
      "text/plain": [
       "[Text(0, 0, 'a'),\n",
       " Text(0, 0, 'c'),\n",
       " Text(0, 0, 'e'),\n",
       " Text(0, 0, 'g'),\n",
       " Text(0, 0, 'i')]"
      ]
     },
     "execution_count": 13,
     "metadata": {},
     "output_type": "execute_result"
    },
    {
     "data": {
      "image/png": "[encoded data removed]",
      "text/plain": [
       "<Figure size 432x288 with 2 Axes>"
      ]
     },
     "metadata": {
      "needs_background": "light"
     },
     "output_type": "display_data"
    }
   ],
   "source": [
    "_min = -30\n",
    "_max = 30\n",
    "fig, ax = plt.subplots(2,1)\n",
    "ax[0].pcolormesh(sample_array,cmap=newcmp,vmin=_min,vmax=_max)\n",
    "ax[1].pcolormesh(np.transpose(sample_array)*3,cmap = newcmp,vmin=_min,vmax=_max)\n",
    "ax[0].set_yticks(np.arange(0,10,2)) #note you still need this part for the spacing\n",
    "ax[0].set_yticklabels(my_list[0::2])"
   ]
  },
  {
   "cell_type": "markdown",
   "metadata": {},
   "source": [
    "Spend 2-3 minutes playing around with this (changing the list, the spacing, the skip)"
   ]
  },
  {
   "cell_type": "code",
   "execution_count": null,
   "metadata": {},
   "outputs": [],
   "source": []
  }
 ],
 "metadata": {
  "kernelspec": {
   "display_name": "Python 3",
   "language": "python",
   "name": "python3"
  },
  "language_info": {
   "codemirror_mode": {
    "name": "ipython",
    "version": 3
   },
   "file_extension": ".py",
   "mimetype": "text/x-python",
   "name": "python",
   "nbconvert_exporter": "python",
   "pygments_lexer": "ipython3",
   "version": "3.8.3"
  }
 },
 "nbformat": 4,
 "nbformat_minor": 2
}
